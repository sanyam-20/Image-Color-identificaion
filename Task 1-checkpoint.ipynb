{
 "cells": [
  {
   "cell_type": "code",
   "execution_count": null,
   "id": "074f613f",
   "metadata": {},
   "outputs": [],
   "source": [
    "pip install matplotlib"
   ]
  },
  {
   "cell_type": "code",
   "execution_count": null,
   "id": "123d483a",
   "metadata": {},
   "outputs": [],
   "source": [
    "pip install opencv-contrib-python"
   ]
  },
  {
   "cell_type": "code",
   "execution_count": null,
   "id": "f296b2aa",
   "metadata": {},
   "outputs": [],
   "source": [
    "pip install -U scikit-image"
   ]
  },
  {
   "cell_type": "code",
   "execution_count": null,
   "id": "ab489f9f",
   "metadata": {},
   "outputs": [],
   "source": [
    "from sklearn.cluster import KMeans\n",
    "import matplotlib.pyplot as plt\n",
    "import numpy as np\n",
    "import cv2\n",
    "from collections import Counter\n",
    "from skimage.color import rgb2lab, deltaE_cie76\n",
    "import os\n",
    "\n",
    "%matplotlib inline"
   ]
  },
  {
   "cell_type": "code",
   "execution_count": null,
   "id": "a8c2791c",
   "metadata": {},
   "outputs": [],
   "source": [
    "image = cv2.imread('sample.jpg')\n",
    "print(\"The type of this input is {}\".format(type(image)))\n",
    "print(\"Shape: {}\".format(image.shape))\n",
    "plt.imshow(image)"
   ]
  },
  {
   "cell_type": "code",
   "execution_count": null,
   "id": "ee5b388d",
   "metadata": {},
   "outputs": [],
   "source": [
    "image = cv2.cvtColor(image, cv2.COLOR_BGR2RGB)\n",
    "plt.imshow(image)"
   ]
  },
  {
   "cell_type": "code",
   "execution_count": null,
   "id": "958a54da",
   "metadata": {},
   "outputs": [],
   "source": [
    "gray_image = cv2.cvtColor(image, cv2.COLOR_BGR2GRAY)\n",
    "plt.imshow(gray_image, cmap='gray')"
   ]
  },
  {
   "cell_type": "code",
   "execution_count": null,
   "id": "3ae173b0",
   "metadata": {},
   "outputs": [],
   "source": [
    "\n",
    "resized_image = cv2.resize(image, (1200, 600))\n",
    "plt.imshow(resized_image)"
   ]
  },
  {
   "cell_type": "code",
   "execution_count": null,
   "id": "9e0f348d",
   "metadata": {},
   "outputs": [],
   "source": [
    "def RGB2HEX(color):\n",
    "    return \"#{:02x}{:02x}{:02x}\".format(int(color[0]), int(color[1]), int(color[2]))"
   ]
  },
  {
   "cell_type": "code",
   "execution_count": null,
   "id": "43b5f1a7",
   "metadata": {},
   "outputs": [],
   "source": [
    "def get_image(image_path):\n",
    "    image = cv2.imread(image_path)\n",
    "    image = cv2.cvtColor(image, cv2.COLOR_BGR2RGB)\n",
    "    return image"
   ]
  },
  {
   "cell_type": "code",
   "execution_count": null,
   "id": "1f98d7ca",
   "metadata": {},
   "outputs": [],
   "source": [
    "def get_colors(image, number_of_colors, show_chart):\n",
    "    \n",
    "    modified_image = cv2.resize(image, (600, 400), interpolation = cv2.INTER_AREA)\n",
    "    modified_image = modified_image.reshape(modified_image.shape[0]*modified_image.shape[1], 3)\n",
    "    \n",
    "    clf = KMeans(n_clusters = number_of_colors)\n",
    "    labels = clf.fit_predict(modified_image)\n",
    "    \n",
    "    counts = Counter(labels)\n",
    "    \n",
    "    center_colors = clf.cluster_centers_\n",
    "    # We get ordered colors by iterating through the keys\n",
    "    ordered_colors = [center_colors[i]/255 for i in counts.keys()]\n",
    "    hex_colors = [RGB2HEX(ordered_colors[i]*255) for i in counts.keys()]\n",
    "    rgb_colors = [ordered_colors[i]*255 for i in counts.keys()]\n",
    "    \n",
    "    if (show_chart):\n",
    "        plt.figure(figsize = (8, 6))\n",
    "        plt.pie(counts.values(), labels = hex_colors, colors = ordered_colors)\n",
    "    \n",
    "    return rgb_colors"
   ]
  },
  {
   "cell_type": "code",
   "execution_count": null,
   "id": "05615599",
   "metadata": {},
   "outputs": [],
   "source": [
    "get_colors(get_image('sample.jpg'), 8, True)"
   ]
  },
  {
   "cell_type": "code",
   "execution_count": null,
   "id": "b5288323",
   "metadata": {},
   "outputs": [],
   "source": []
  }
 ],
 "metadata": {
  "kernelspec": {
   "display_name": "Python 3 (ipykernel)",
   "language": "python",
   "name": "python3"
  },
  "language_info": {
   "codemirror_mode": {
    "name": "ipython",
    "version": 3
   },
   "file_extension": ".py",
   "mimetype": "text/x-python",
   "name": "python",
   "nbconvert_exporter": "python",
   "pygments_lexer": "ipython3",
   "version": "3.11.0"
  }
 },
 "nbformat": 4,
 "nbformat_minor": 5
}
